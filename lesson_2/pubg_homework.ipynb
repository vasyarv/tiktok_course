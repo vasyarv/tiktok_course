{
 "cells": [
  {
   "cell_type": "markdown",
   "id": "493d23e6",
   "metadata": {},
   "source": [
    "# Домашнее задание по EDA\n",
    "1. Присоединиться к конкурсу https://www.kaggle.com/c/pubg-finish-placement-prediction , скачать данные (нужно зарегистрироваться в kaggle если еще этого не сделали)\n",
    "2. Найти новые закономерности в данных (идеи - поиск аномалий, визуализации статистик по команде, взаимодействие признаков между собой), как минимум **5** новых идей/визуализаций\n",
    "3. Добавить новые признаки (минимум 5 оригинальных признаков)\n",
    "4. Сравнить скор до/после"
   ]
  }
 ],
 "metadata": {
  "kernelspec": {
   "display_name": "Python 3",
   "language": "python",
   "name": "python3"
  },
  "language_info": {
   "codemirror_mode": {
    "name": "ipython",
    "version": 3
   },
   "file_extension": ".py",
   "mimetype": "text/x-python",
   "name": "python",
   "nbconvert_exporter": "python",
   "pygments_lexer": "ipython3",
   "version": "3.8.5"
  }
 },
 "nbformat": 4,
 "nbformat_minor": 5
}
